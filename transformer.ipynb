{
 "cells": [
  {
   "cell_type": "code",
   "execution_count": 16,
   "metadata": {},
   "outputs": [],
   "source": [
    "import math\n",
    "import torch\n",
    "import numpy as np"
   ]
  },
  {
   "cell_type": "code",
   "execution_count": 17,
   "metadata": {},
   "outputs": [],
   "source": [
    "d_output_embedding = 32\n",
    "d_input_embedding = 32\n",
    "d_hidden = 64\n",
    "n_sequence_words = 10\n",
    "n_head = 8\n",
    "\n",
    "n_words = 1000\n",
    "\n",
    "embedding_layer = torch.nn.Linear(n_words, d_input_embedding)\n",
    "qkv_projection_layer = torch.nn.Linear(d_input_embedding, 3 * d_output_embedding)\n",
    "mask_matrix = torch.triu(torch.ones(n_sequence_words, n_sequence_words)  * float('-inf'), diagonal=1)"
   ]
  },
  {
   "cell_type": "code",
   "execution_count": 18,
   "metadata": {},
   "outputs": [],
   "source": [
    "# Positional encoding equation: \n",
    "# PE(pos, 2i) = sin(pos / 10000^(2i/d_model)) \n",
    "# PE(pos, 2i + 1) = cos(pos / 10000^(2i/d_model))\n",
    "class PositionalEndoding(torch.nn.Module):\n",
    "    def __init__(self, d_model, dropout: float = 0.1, max_len = 5000):\n",
    "        super().__init__()\n",
    "\n",
    "        self.dropout = torch.nn.Dropout(p=dropout)\n",
    "        position = torch.arange(max_len).unsqueeze(1) # Unsqueeze means add a dimension for batch\n",
    "        div_term = torch.exp(torch.arange(0, d_model, 2) * (-math.log(10000.0) / d_model))\n",
    "        pe = torch.zeros(max_len, 1, d_model)\n",
    "        pe[:, 0, 0::2] = torch.sin(position * div_term)\n",
    "        pe[:, 0, 1::2] = torch.cos(position * div_term)\n",
    "        self.register_buffer('pe', pe) # Register buffer means that the tensor will be saved in the state_dict but not trained\n",
    "    \n",
    "    def forward(self, x):\n",
    "        # x: (batch_size, n_sequence_words, d_model)\n",
    "        return self.dropout(x + self.pe[:x.size(0)]) # (batch_size, n_sequence_words, d_model)"
   ]
  },
  {
   "cell_type": "markdown",
   "metadata": {},
   "source": [
    "Layer Normalization (https://arxiv.org/pdf/1607.06450.pdf):\n",
    "\n",
    "$$ y = \\frac{x - \\mathrm{E}[x]}{ \\sqrt{\\mathrm{Var}[x] + \\epsilon}} * \\gamma + \\beta $$"
   ]
  },
  {
   "cell_type": "code",
   "execution_count": 25,
   "metadata": {},
   "outputs": [],
   "source": [
    "\n",
    "# https://pytorch.org/docs/stable/_modules/torch/nn/modules/normalization.html#LayerNorm\n",
    "class LayerNorm(torch.nn.Module):\n",
    "    def __init__(self, d_model, eps = 1e-6):\n",
    "        super().__init__()\n",
    "        self.d_model = d_model\n",
    "        self.eps = eps\n",
    "        self.gamma = torch.nn.Parameter(torch.ones(d_model))\n",
    "        self.beta = torch.nn.Parameter(torch.zeros(d_model))\n",
    "\n",
    "    def forward(self, x):\n",
    "        if isinstance(self.d_model, int):\n",
    "            dims = [-1]\n",
    "        else:\n",
    "            dims = [-(i+1) for i in range(len(self.d_model))]\n",
    "        mean = x.mean(dim=dims, keepdim=True)\n",
    "        std = x.std(-1, keepdim=True)\n",
    "        x_transformed = (x-mean) / (std + self.eps)\n",
    "        return self.gamma * x_transformed + self.beta"
   ]
  },
  {
   "cell_type": "code",
   "execution_count": 26,
   "metadata": {},
   "outputs": [],
   "source": [
    "\"\"\"\n",
    "    self attention function from the transformer model\n",
    "    Q, K, V: (batch_size, n_head, n_sequence_words, d_output_embedding)\n",
    "    mask: (n_sequence_words, n_sequence_words), None if no mask\n",
    "    return: (batch_size, n_head, n_sequence_words, d_output_embedding) for the output of the self-attention\n",
    "            (batch_size, n_head, n_sequence_words, n_sequence_words) for the attention matrix\n",
    "\n",
    "    Example in matrix with batch size 2, n_head 3, n_sequence_words 2, d_output_embedding 3:\n",
    "    Q (or K, V) = [\n",
    "            // batch 1\n",
    "            [\n",
    "                // head 1\n",
    "                [\n",
    "                    // word 1\n",
    "                    [1, 2, 3],\n",
    "                    // word 2 \n",
    "                    [4, 5, 6]\n",
    "                ],\n",
    "                // head 2\n",
    "                [\n",
    "                    [7, 8, 9],\n",
    "                    [10, 11, 12]\n",
    "                ],\n",
    "            ], \n",
    "            // batch 2\n",
    "            [\n",
    "                [\n",
    "                    [13, 14, 15],\n",
    "                    [16, 17, 18]\n",
    "                ],\n",
    "                [\n",
    "                    [19, 20, 21],\n",
    "                    [22, 23, 24]\n",
    "                ]\n",
    "            ], \n",
    "            [\n",
    "                [\n",
    "                    [13, 14, 15], \n",
    "                    [16, 17, 18]\n",
    "                ],\n",
    "                [\n",
    "                    [19, 20, 21],\n",
    "                    [22, 23, 24]\n",
    "                ]\n",
    "            ]\n",
    "        ]\n",
    "\"\"\"\n",
    "def self_attention(Q, K, V, mask = None):\n",
    "    # Q, K, V: (batch_size, n_head, n_sequence_words, d_output_embedding)\n",
    "    scale = torch.matmul(Q, K.transpose(-2, -1)) / np.sqrt(d_output_embedding) # (batch_size, n_head, n_sequence_words, n_sequence_words)\n",
    "    if mask is not None:\n",
    "        scale = scale + mask\n",
    "    attention = torch.nn.functional.softmax(scale, dim=-1)\n",
    "    return torch.matmul(attention, V), attention # (batch_size, n_head, n_sequence_words, d_output_embedding) for the output of the self-attention\n",
    "\n",
    "class MultiHeadAttention(torch.nn.Module):\n",
    "    def __init__(self, d_input_embedding, d_output_embedding, n_head):\n",
    "        super(MultiHeadAttention, self).__init__()\n",
    "        self.d_input_embedding = d_input_embedding\n",
    "        self.d_output_embedding = d_output_embedding\n",
    "        self.n_head = n_head\n",
    "        self.qkv_projection_layer = torch.nn.Linear(d_input_embedding, 3 * d_output_embedding)\n",
    "        self.linear = torch.nn.Linear(d_output_embedding, d_output_embedding)\n",
    "\n",
    "    def forward(self, X, mask = None):\n",
    "        # X: (batch_size, n_sequence_words, d_input_embedding)\n",
    "        batch_size, n_sequence_words, _ = X.shape\n",
    "        # Q, K, V projection\n",
    "        qkv = self.qkv_projection_layer(X)\n",
    "        batch_size, n_sequence_words, _ = qkv.shape\n",
    "        qkv = qkv.reshape(batch_size, n_sequence_words, n_head, -1) # (batch_size, n_sequence_words, n_head, 3 * d_output_embedding for q + k + v)\n",
    "        qkv = qkv.permute(0, 2, 1, 3) # (batch_size, n_head, n_sequence_words, 3 * d_output_embedding for q + k + v) The calculation is per head\n",
    "        q, k, v = qkv.chunk(3, dim=-1) # (batch_size, n_head, n_sequence_words, d_output_embedding) for q, k, v\n",
    "        value, attention = self_attention(q, k, v, mask) # value: (batch_size, n_head, n_sequence_words, d_output_embedding) for the output of the self-attention\n",
    "        value = value.reshape(batch_size, n_sequence_words, -1) # concat n_head\n",
    "        return self.linear(value)\n"
   ]
  },
  {
   "cell_type": "code",
   "execution_count": 27,
   "metadata": {},
   "outputs": [],
   "source": [
    "# Positionwise feed forward\n",
    "# It is a fully connected feed-forward network\n",
    "# which is applied to each position separately and identically. This\n",
    "# consists of two linear transformations with a ReLU activation in between.\n",
    "# FFN(x) = ReLU(x*W1 + b1)*W2 + b\n",
    "\n",
    "class PositionwiseFeedForward(torch.nn.Module):\n",
    "    def __init__(self, d_model, d_hidden, dropout = 0.1):\n",
    "        super(PositionwiseFeedForward, self).__init__()\n",
    "        self.linear1 = torch.nn.Linear(d_model, d_hidden)\n",
    "        self.linear2 = torch.nn.Linear(d_hidden, d_model)\n",
    "        self.relu = torch.nn.ReLU()\n",
    "        self.dropout = torch.nn.Dropout(dropout)\n",
    "\n",
    "    def forward(self, x):\n",
    "        x = self.relu(self.linear1(x))\n",
    "        x = self.dropout(x)\n",
    "        x = self.linear2(x)\n",
    "        return x"
   ]
  },
  {
   "cell_type": "code",
   "execution_count": 28,
   "metadata": {},
   "outputs": [],
   "source": [
    "# Encoder layer\n",
    "# Represents a single encoder layer:\n",
    "# 1. X = positionalEncoding(X)\n",
    "# 2. X = self_attention(X) \n",
    "# 3. X = X + layer_norm(X)\n",
    "# 4. X = positionwise_feed_forward(X)\n",
    "# 5. X = X + layer_norm(X)\n",
    "\n",
    "class EncoderLayer(torch.nn.Module):\n",
    "    def __init__(self, d_model, d_hidden, n_head, dropout = 0.1):\n",
    "        super(EncoderLayer, self).__init__()\n",
    "        self.positional_encoding = PositionalEndoding(d_model, dropout)\n",
    "        self.self_attention = MultiHeadAttention(d_model, d_model, n_head)\n",
    "        self.positionwise_feed_forward = PositionwiseFeedForward(d_model, d_hidden, dropout)\n",
    "        self.layer_norm1 = LayerNorm(d_model)\n",
    "        self.layer_norm2 = LayerNorm(d_model)\n",
    "        self.dropout = torch.nn.Dropout(dropout)\n",
    "        self.relu = torch.nn.ReLU()\n",
    "\n",
    "    def forward(self, X, mask = None):\n",
    "        residual_X = X\n",
    "        X = self.positional_encoding(X)\n",
    "        X = self.self_attention(X, mask)\n",
    "        X = self.layer_norm1(X) + self.dropout(residual_X)\n",
    "        residual_X = X\n",
    "        X = self.positionwise_feed_forward(X)\n",
    "        X = self.layer_norm2(X) + self.dropout(residual_X)\n",
    "        return X\n"
   ]
  },
  {
   "cell_type": "code",
   "execution_count": 29,
   "metadata": {},
   "outputs": [],
   "source": [
    "X = torch.randn(8, n_sequence_words, d_input_embedding)"
   ]
  },
  {
   "cell_type": "code",
   "execution_count": 33,
   "metadata": {},
   "outputs": [
    {
     "data": {
      "text/plain": [
       "torch.Size([8, 10, 32])"
      ]
     },
     "execution_count": 33,
     "metadata": {},
     "output_type": "execute_result"
    }
   ],
   "source": [
    "X.shape"
   ]
  },
  {
   "cell_type": "code",
   "execution_count": 31,
   "metadata": {},
   "outputs": [],
   "source": [
    "encoderLayer = EncoderLayer(d_output_embedding, d_hidden, n_head)\n",
    "output = encoderLayer(X, mask_matrix)"
   ]
  },
  {
   "cell_type": "code",
   "execution_count": 32,
   "metadata": {},
   "outputs": [
    {
     "data": {
      "text/plain": [
       "torch.Size([8, 10, 32])"
      ]
     },
     "execution_count": 32,
     "metadata": {},
     "output_type": "execute_result"
    }
   ],
   "source": [
    "output.shape"
   ]
  },
  {
   "cell_type": "code",
   "execution_count": null,
   "metadata": {},
   "outputs": [],
   "source": []
  }
 ],
 "metadata": {
  "kernelspec": {
   "display_name": "Python 3",
   "language": "python",
   "name": "python3"
  },
  "language_info": {
   "codemirror_mode": {
    "name": "ipython",
    "version": 3
   },
   "file_extension": ".py",
   "mimetype": "text/x-python",
   "name": "python",
   "nbconvert_exporter": "python",
   "pygments_lexer": "ipython3",
   "version": "3.10.6"
  }
 },
 "nbformat": 4,
 "nbformat_minor": 2
}
